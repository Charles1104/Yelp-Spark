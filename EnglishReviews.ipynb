{
 "cells": [
  {
   "cell_type": "code",
   "execution_count": null,
   "metadata": {
    "collapsed": true
   },
   "outputs": [],
   "source": [
    "import pandas as pd\n",
    "import langdetect\n",
    "import codecs"
   ]
  },
  {
   "cell_type": "code",
   "execution_count": null,
   "metadata": {
    "collapsed": false
   },
   "outputs": [],
   "source": [
    "import langdetect\n",
    "def lang_detect(text):\n",
    "    try:\n",
    "        lang = langdetect.detect(text)\n",
    "    except:\n",
    "        lang = ''\n",
    "    return lang\n",
    "\n",
    "df = pd.read_csv('./dataset/yelp_academic_dataset_review.csv', encoding='utf-8')\n",
    "print(len(df))"
   ]
  },
  {
   "cell_type": "code",
   "execution_count": null,
   "metadata": {
    "collapsed": false
   },
   "outputs": [],
   "source": [
    "def short(t):\n",
    "    return t[:100] if isinstance(t, unicode) else ''\n",
    "\n",
    "new_rows = []\n",
    "colnames = df.columns.tolist()\n",
    "colnames.append('lang')\n",
    "review_count = 0"
   ]
  },
  {
   "cell_type": "code",
   "execution_count": null,
   "metadata": {
    "collapsed": false,
    "scrolled": true
   },
   "outputs": [],
   "source": [
    "with open('./dataset/english_reviews.csv', 'a') as f:\n",
    "    f.write(','.join(colnames) + '\\n')\n",
    "    for index, row in df.iterrows():\n",
    "        new_row = row\n",
    "        lang = lang_detect(short(row.text))\n",
    "        new_row['lang'] = lang\n",
    "        if lang == 'en':\n",
    "            new_rows.append(new_row.values)\n",
    "            review_count += 1\n",
    "        if index % 10000 == 0:\n",
    "            print index\n",
    "        if index % 10000 == 0:\n",
    "            df_lang = pd.DataFrame(new_rows, columns=colnames)\n",
    "            df_lang.to_csv(f, header=False, encoding='utf-8')\n",
    "            new_rows = []"
   ]
  }
 ],
 "metadata": {
  "kernelspec": {
   "display_name": "Python 2",
   "language": "python",
   "name": "python2"
  },
  "language_info": {
   "codemirror_mode": {
    "name": "ipython",
    "version": 2
   },
   "file_extension": ".py",
   "mimetype": "text/x-python",
   "name": "python",
   "nbconvert_exporter": "python",
   "pygments_lexer": "ipython2",
   "version": "2.7.12"
  }
 },
 "nbformat": 4,
 "nbformat_minor": 2
}

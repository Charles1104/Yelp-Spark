{
 "cells": [
  {
   "cell_type": "markdown",
   "metadata": {},
   "source": [
    "# Exploratory Analysis of Businesses"
   ]
  },
  {
   "cell_type": "code",
   "execution_count": 28,
   "metadata": {
    "collapsed": true
   },
   "outputs": [],
   "source": [
    "import pandas as pd\n",
    "import numpy as np\n",
    "import seaborn as sns\n",
    "from ast import literal_eval\n",
    "from collections import Counter\n",
    "from pandas.io.json import json_normalize\n",
    "\n",
    "%matplotlib inline"
   ]
  },
  {
   "cell_type": "code",
   "execution_count": 30,
   "metadata": {
    "collapsed": false
   },
   "outputs": [],
   "source": [
    "df = pd.read_csv('./dataset/yelp_academic_dataset_business.csv')"
   ]
  },
  {
   "cell_type": "code",
   "execution_count": 31,
   "metadata": {
    "collapsed": false
   },
   "outputs": [
    {
     "name": "stdout",
     "output_type": "stream",
     "text": [
      "144072\n"
     ]
    }
   ],
   "source": [
    "print(len(df))"
   ]
  },
  {
   "cell_type": "markdown",
   "metadata": {},
   "source": [
    "## Top 20 cities by # of businesses"
   ]
  },
  {
   "cell_type": "code",
   "execution_count": 35,
   "metadata": {
    "collapsed": false
   },
   "outputs": [
    {
     "data": {
      "text/html": [
       "<div>\n",
       "<table border=\"1\" class=\"dataframe\">\n",
       "  <thead>\n",
       "    <tr style=\"text-align: right;\">\n",
       "      <th></th>\n",
       "      <th>city</th>\n",
       "      <th>businesses</th>\n",
       "    </tr>\n",
       "  </thead>\n",
       "  <tbody>\n",
       "    <tr>\n",
       "      <th>0</th>\n",
       "      <td>Las Vegas</td>\n",
       "      <td>22892</td>\n",
       "    </tr>\n",
       "    <tr>\n",
       "      <th>1</th>\n",
       "      <td>Toronto</td>\n",
       "      <td>14540</td>\n",
       "    </tr>\n",
       "    <tr>\n",
       "      <th>2</th>\n",
       "      <td>Phoenix</td>\n",
       "      <td>14468</td>\n",
       "    </tr>\n",
       "    <tr>\n",
       "      <th>3</th>\n",
       "      <td>Scottsdale</td>\n",
       "      <td>6917</td>\n",
       "    </tr>\n",
       "    <tr>\n",
       "      <th>4</th>\n",
       "      <td>Charlotte</td>\n",
       "      <td>6912</td>\n",
       "    </tr>\n",
       "    <tr>\n",
       "      <th>5</th>\n",
       "      <td>Pittsburgh</td>\n",
       "      <td>5275</td>\n",
       "    </tr>\n",
       "    <tr>\n",
       "      <th>6</th>\n",
       "      <td>Montréal</td>\n",
       "      <td>4785</td>\n",
       "    </tr>\n",
       "    <tr>\n",
       "      <th>7</th>\n",
       "      <td>Mesa</td>\n",
       "      <td>4714</td>\n",
       "    </tr>\n",
       "    <tr>\n",
       "      <th>8</th>\n",
       "      <td>Henderson</td>\n",
       "      <td>3788</td>\n",
       "    </tr>\n",
       "    <tr>\n",
       "      <th>9</th>\n",
       "      <td>Tempe</td>\n",
       "      <td>3703</td>\n",
       "    </tr>\n",
       "    <tr>\n",
       "      <th>10</th>\n",
       "      <td>Edinburgh</td>\n",
       "      <td>3601</td>\n",
       "    </tr>\n",
       "    <tr>\n",
       "      <th>11</th>\n",
       "      <td>Chandler</td>\n",
       "      <td>3325</td>\n",
       "    </tr>\n",
       "    <tr>\n",
       "      <th>12</th>\n",
       "      <td>Cleveland</td>\n",
       "      <td>2785</td>\n",
       "    </tr>\n",
       "    <tr>\n",
       "      <th>13</th>\n",
       "      <td>Madison</td>\n",
       "      <td>2711</td>\n",
       "    </tr>\n",
       "    <tr>\n",
       "      <th>14</th>\n",
       "      <td>Gilbert</td>\n",
       "      <td>2574</td>\n",
       "    </tr>\n",
       "    <tr>\n",
       "      <th>15</th>\n",
       "      <td>Glendale</td>\n",
       "      <td>2555</td>\n",
       "    </tr>\n",
       "    <tr>\n",
       "      <th>16</th>\n",
       "      <td>Mississauga</td>\n",
       "      <td>2094</td>\n",
       "    </tr>\n",
       "    <tr>\n",
       "      <th>17</th>\n",
       "      <td>Stuttgart</td>\n",
       "      <td>1955</td>\n",
       "    </tr>\n",
       "    <tr>\n",
       "      <th>18</th>\n",
       "      <td>Peoria</td>\n",
       "      <td>1367</td>\n",
       "    </tr>\n",
       "    <tr>\n",
       "      <th>19</th>\n",
       "      <td>Markham</td>\n",
       "      <td>1285</td>\n",
       "    </tr>\n",
       "  </tbody>\n",
       "</table>\n",
       "</div>"
      ],
      "text/plain": [
       "           city  businesses\n",
       "0     Las Vegas       22892\n",
       "1       Toronto       14540\n",
       "2       Phoenix       14468\n",
       "3    Scottsdale        6917\n",
       "4     Charlotte        6912\n",
       "5    Pittsburgh        5275\n",
       "6      Montréal        4785\n",
       "7          Mesa        4714\n",
       "8     Henderson        3788\n",
       "9         Tempe        3703\n",
       "10    Edinburgh        3601\n",
       "11     Chandler        3325\n",
       "12    Cleveland        2785\n",
       "13      Madison        2711\n",
       "14      Gilbert        2574\n",
       "15     Glendale        2555\n",
       "16  Mississauga        2094\n",
       "17    Stuttgart        1955\n",
       "18       Peoria        1367\n",
       "19      Markham        1285"
      ]
     },
     "execution_count": 35,
     "metadata": {},
     "output_type": "execute_result"
    }
   ],
   "source": [
    "pd.DataFrame(Counter(df.city.values).most_common(20), columns=['city','businesses'])"
   ]
  },
  {
   "cell_type": "markdown",
   "metadata": {},
   "source": [
    "## Distribution of review counts"
   ]
  },
  {
   "cell_type": "code",
   "execution_count": 26,
   "metadata": {
    "collapsed": false,
    "scrolled": true
   },
   "outputs": [
    {
     "data": {
      "text/plain": [
       "<matplotlib.text.Text at 0x7f3223829590>"
      ]
     },
     "execution_count": 26,
     "metadata": {},
     "output_type": "execute_result"
    },
    {
     "data": {
      "image/png": "[encoded data removed]",
      "text/plain": [
       "<matplotlib.figure.Figure at 0x7f3238fe6e50>"
      ]
     },
     "metadata": {},
     "output_type": "display_data"
    }
   ],
   "source": [
    "sns.plt.hist(df.review_count, bins=range(0,200,5))\n",
    "sns.plt.xlabel('Review Count')\n",
    "sns.plt.ylabel('# of Businesses')\n",
    "sns.plt.title('Businesses by Review Count')"
   ]
  },
  {
   "cell_type": "markdown",
   "metadata": {},
   "source": [
    "## Distribution of stars"
   ]
  },
  {
   "cell_type": "code",
   "execution_count": 27,
   "metadata": {
    "collapsed": false
   },
   "outputs": [
    {
     "data": {
      "text/plain": [
       "<matplotlib.text.Text at 0x7f3229eca550>"
      ]
     },
     "execution_count": 27,
     "metadata": {},
     "output_type": "execute_result"
    },
    {
     "data": {
      "image/png": "[encoded data removed]",
      "text/plain": [
       "<matplotlib.figure.Figure at 0x7f32390b67d0>"
      ]
     },
     "metadata": {},
     "output_type": "display_data"
    }
   ],
   "source": [
    "sns.plt.hist(df.stars, bins=np.linspace(1.,5.5,10))\n",
    "sns.plt.xlabel('Stars')\n",
    "sns.plt.ylabel('# of Businesses')\n",
    "sns.plt.title('Businesses by Stars')"
   ]
  },
  {
   "cell_type": "markdown",
   "metadata": {},
   "source": [
    "## Business Categories"
   ]
  },
  {
   "cell_type": "code",
   "execution_count": 18,
   "metadata": {
    "collapsed": false
   },
   "outputs": [],
   "source": [
    "def to_list(value):\n",
    "    try:\n",
    "        return literal_eval(value)\n",
    "    except:\n",
    "        return []\n",
    "\n",
    "df['categories'] = df.categories.apply(to_list)"
   ]
  },
  {
   "cell_type": "code",
   "execution_count": 19,
   "metadata": {
    "collapsed": true
   },
   "outputs": [],
   "source": [
    "df['categories'] = df.categories.apply(lambda d: {'cat': {c: True for c in d}})"
   ]
  },
  {
   "cell_type": "code",
   "execution_count": 20,
   "metadata": {
    "collapsed": true
   },
   "outputs": [],
   "source": [
    "biz_cats = json_normalize(df.categories)"
   ]
  },
  {
   "cell_type": "markdown",
   "metadata": {},
   "source": [
    "## Top 10 categories"
   ]
  },
  {
   "cell_type": "code",
   "execution_count": 21,
   "metadata": {
    "collapsed": false
   },
   "outputs": [
    {
     "data": {
      "text/html": [
       "<div>\n",
       "<table border=\"1\" class=\"dataframe\">\n",
       "  <thead>\n",
       "    <tr style=\"text-align: right;\">\n",
       "      <th></th>\n",
       "      <th>n</th>\n",
       "    </tr>\n",
       "  </thead>\n",
       "  <tbody>\n",
       "    <tr>\n",
       "      <th>cat.Restaurants</th>\n",
       "      <td>48485</td>\n",
       "    </tr>\n",
       "    <tr>\n",
       "      <th>cat.Shopping</th>\n",
       "      <td>22466</td>\n",
       "    </tr>\n",
       "    <tr>\n",
       "      <th>cat.Food</th>\n",
       "      <td>21189</td>\n",
       "    </tr>\n",
       "    <tr>\n",
       "      <th>cat.Beauty &amp; Spas</th>\n",
       "      <td>13711</td>\n",
       "    </tr>\n",
       "    <tr>\n",
       "      <th>cat.Home Services</th>\n",
       "      <td>11241</td>\n",
       "    </tr>\n",
       "    <tr>\n",
       "      <th>cat.Nightlife</th>\n",
       "      <td>10524</td>\n",
       "    </tr>\n",
       "    <tr>\n",
       "      <th>cat.Health &amp; Medical</th>\n",
       "      <td>10476</td>\n",
       "    </tr>\n",
       "    <tr>\n",
       "      <th>cat.Bars</th>\n",
       "      <td>9087</td>\n",
       "    </tr>\n",
       "    <tr>\n",
       "      <th>cat.Automotive</th>\n",
       "      <td>8554</td>\n",
       "    </tr>\n",
       "    <tr>\n",
       "      <th>cat.Local Services</th>\n",
       "      <td>8133</td>\n",
       "    </tr>\n",
       "  </tbody>\n",
       "</table>\n",
       "</div>"
      ],
      "text/plain": [
       "                          n\n",
       "cat.Restaurants       48485\n",
       "cat.Shopping          22466\n",
       "cat.Food              21189\n",
       "cat.Beauty & Spas     13711\n",
       "cat.Home Services     11241\n",
       "cat.Nightlife         10524\n",
       "cat.Health & Medical  10476\n",
       "cat.Bars               9087\n",
       "cat.Automotive         8554\n",
       "cat.Local Services     8133"
      ]
     },
     "execution_count": 21,
     "metadata": {},
     "output_type": "execute_result"
    }
   ],
   "source": [
    "pd.DataFrame({'n':biz_cats.notnull().sum()}).sort_values(by='n', ascending=False)[:10]"
   ]
  },
  {
   "cell_type": "markdown",
   "metadata": {},
   "source": [
    "## Business Attributes"
   ]
  },
  {
   "cell_type": "code",
   "execution_count": 22,
   "metadata": {
    "collapsed": false
   },
   "outputs": [],
   "source": [
    "def attr_to_dict(value):\n",
    "    try:\n",
    "        return dict(map(lambda w: (w[0], w[1] == 'True'), map(lambda v: v.split(': '), literal_eval(value))))\n",
    "    except:\n",
    "        return {}\n",
    "\n",
    "df['attributes'] = df.attributes.apply(attr_to_dict)"
   ]
  },
  {
   "cell_type": "code",
   "execution_count": 23,
   "metadata": {
    "collapsed": true
   },
   "outputs": [],
   "source": [
    "df['attributes'] = df.attributes.apply(lambda d: {'attr': d})"
   ]
  },
  {
   "cell_type": "code",
   "execution_count": 24,
   "metadata": {
    "collapsed": false
   },
   "outputs": [],
   "source": [
    "biz_attrs = json_normalize(df.attributes)"
   ]
  },
  {
   "cell_type": "markdown",
   "metadata": {},
   "source": [
    "## Top 10 attributes"
   ]
  },
  {
   "cell_type": "code",
   "execution_count": 25,
   "metadata": {
    "collapsed": false
   },
   "outputs": [
    {
     "data": {
      "text/html": [
       "<div>\n",
       "<table border=\"1\" class=\"dataframe\">\n",
       "  <thead>\n",
       "    <tr style=\"text-align: right;\">\n",
       "      <th></th>\n",
       "      <th>n</th>\n",
       "    </tr>\n",
       "  </thead>\n",
       "  <tbody>\n",
       "    <tr>\n",
       "      <th>attr.BusinessAcceptsCreditCards</th>\n",
       "      <td>110105</td>\n",
       "    </tr>\n",
       "    <tr>\n",
       "      <th>attr.RestaurantsPriceRange2</th>\n",
       "      <td>90300</td>\n",
       "    </tr>\n",
       "    <tr>\n",
       "      <th>attr.BusinessParking</th>\n",
       "      <td>83173</td>\n",
       "    </tr>\n",
       "    <tr>\n",
       "      <th>attr.BikeParking</th>\n",
       "      <td>66963</td>\n",
       "    </tr>\n",
       "    <tr>\n",
       "      <th>attr.GoodForKids</th>\n",
       "      <td>54636</td>\n",
       "    </tr>\n",
       "    <tr>\n",
       "      <th>attr.RestaurantsTakeOut</th>\n",
       "      <td>50514</td>\n",
       "    </tr>\n",
       "    <tr>\n",
       "      <th>attr.OutdoorSeating</th>\n",
       "      <td>47657</td>\n",
       "    </tr>\n",
       "    <tr>\n",
       "      <th>attr.RestaurantsGoodForGroups</th>\n",
       "      <td>46706</td>\n",
       "    </tr>\n",
       "    <tr>\n",
       "      <th>attr.RestaurantsDelivery</th>\n",
       "      <td>43844</td>\n",
       "    </tr>\n",
       "    <tr>\n",
       "      <th>attr.RestaurantsReservations</th>\n",
       "      <td>43485</td>\n",
       "    </tr>\n",
       "  </tbody>\n",
       "</table>\n",
       "</div>"
      ],
      "text/plain": [
       "                                      n\n",
       "attr.BusinessAcceptsCreditCards  110105\n",
       "attr.RestaurantsPriceRange2       90300\n",
       "attr.BusinessParking              83173\n",
       "attr.BikeParking                  66963\n",
       "attr.GoodForKids                  54636\n",
       "attr.RestaurantsTakeOut           50514\n",
       "attr.OutdoorSeating               47657\n",
       "attr.RestaurantsGoodForGroups     46706\n",
       "attr.RestaurantsDelivery          43844\n",
       "attr.RestaurantsReservations      43485"
      ]
     },
     "execution_count": 25,
     "metadata": {},
     "output_type": "execute_result"
    }
   ],
   "source": [
    "pd.DataFrame({'n':biz_attrs.notnull().sum()}).sort_values(by='n', ascending=False)[:10]"
   ]
  },
  {
   "cell_type": "markdown",
   "metadata": {},
   "source": [
    "## Frequencies of attribute's values"
   ]
  },
  {
   "cell_type": "code",
   "execution_count": 75,
   "metadata": {
    "collapsed": false
   },
   "outputs": [
    {
     "name": "stdout",
     "output_type": "stream",
     "text": [
      "attr.AcceptsInsurance: Counter({nan: 137105, True: 5255, False: 1712})\n",
      "attr.AgesAllowed: Counter({nan: 143696, False: 376})\n",
      "attr.Alcohol: Counter({nan: 102191, False: 41881})\n",
      "attr.Ambience: Counter({nan: 104385, False: 39687})\n",
      "attr.BYOB: Counter({nan: 143170, False: 855, True: 47})\n",
      "attr.BYOBCorkage: Counter({nan: 142676, False: 1396})\n",
      "attr.BestNights: Counter({nan: 138211, False: 5861})\n",
      "attr.BikeParking: Counter({nan: 77109, True: 51914, False: 15049})\n",
      "attr.BusinessAcceptsBitcoin: Counter({nan: 136963, False: 6931, True: 178})\n",
      "attr.BusinessAcceptsCreditCards: Counter({True: 103200, nan: 33967, False: 6905})\n",
      "attr.BusinessParking: Counter({False: 83173, nan: 60899})\n",
      "attr.ByAppointmentOnly: Counter({nan: 114178, False: 15693, True: 14201})\n",
      "attr.Caters: Counter({nan: 115202, True: 14938, False: 13932})\n",
      "attr.CoatCheck: Counter({nan: 136689, False: 6372, True: 1011})\n",
      "attr.Corkage: Counter({nan: 143421, False: 511, True: 140})\n",
      "attr.DietaryRestrictions: Counter({nan: 143849, False: 223})\n",
      "attr.DogsAllowed: Counter({nan: 134258, False: 6725, True: 3089})\n",
      "attr.DriveThru: Counter({nan: 138569, False: 3349, True: 2154})\n",
      "attr.GoodForDancing: Counter({nan: 136247, False: 5885, True: 1940})\n",
      "attr.GoodForKids: Counter({nan: 89436, True: 44115, False: 10521})\n",
      "attr.GoodForMeal: Counter({nan: 103863, False: 40209})\n",
      "attr.HairSpecializesIn: Counter({nan: 142886, False: 1186})\n",
      "attr.HappyHour: Counter({nan: 136355, True: 5473, False: 2244})\n",
      "attr.HasTV: Counter({nan: 102770, True: 21233, False: 20069})\n",
      "attr.Music: Counter({nan: 136739, False: 7333})\n",
      "attr.NoiseLevel: Counter({nan: 105710, False: 38362})\n",
      "attr.Open24Hours: Counter({nan: 143725, False: 318, True: 29})\n",
      "attr.OutdoorSeating: Counter({nan: 96415, False: 28147, True: 19510})\n",
      "attr.RestaurantsAttire: Counter({nan: 101823, False: 42249})\n",
      "attr.RestaurantsCounterService: Counter({nan: 143676, True: 246, False: 150})\n",
      "attr.RestaurantsDelivery: Counter({nan: 100228, False: 33682, True: 10162})\n",
      "attr.RestaurantsGoodForGroups: Counter({nan: 97366, True: 40887, False: 5819})\n",
      "attr.RestaurantsPriceRange2: Counter({False: 90300, nan: 53772})\n",
      "attr.RestaurantsReservations: Counter({nan: 100587, False: 26107, True: 17378})\n",
      "attr.RestaurantsTableService: Counter({nan: 106280, True: 24423, False: 13369})\n",
      "attr.RestaurantsTakeOut: Counter({nan: 93558, True: 45544, False: 4970})\n",
      "attr.Smoking: Counter({nan: 136990, False: 7082})\n",
      "attr.WheelchairAccessible: Counter({nan: 104059, True: 34799, False: 5214})\n",
      "attr.WiFi: Counter({nan: 104931, False: 39141})\n"
     ]
    }
   ],
   "source": [
    "for col in biz_attrs.columns:\n",
    "    print('%s: %s' % (col, Counter(biz_attrs[col])))"
   ]
  },
  {
   "cell_type": "code",
   "execution_count": null,
   "metadata": {
    "collapsed": true
   },
   "outputs": [],
   "source": []
  }
 ],
 "metadata": {
  "anaconda-cloud": {},
  "kernelspec": {
   "display_name": "Python 2",
   "language": "python",
   "name": "python2"
  },
  "language_info": {
   "codemirror_mode": {
    "name": "ipython",
    "version": 2
   },
   "file_extension": ".py",
   "mimetype": "text/x-python",
   "name": "python",
   "nbconvert_exporter": "python",
   "pygments_lexer": "ipython2",
   "version": "2.7.12"
  }
 },
 "nbformat": 4,
 "nbformat_minor": 1
}

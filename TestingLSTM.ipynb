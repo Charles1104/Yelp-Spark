{
 "cells": [
  {
   "cell_type": "code",
   "execution_count": 1,
   "metadata": {
    "collapsed": true
   },
   "outputs": [],
   "source": [
    "import pandas as pd\n",
    "import requests\n",
    "import json\n",
    "#!docker run -p 8002:8002 -i -t dvgodoy/yelplstm:latest"
   ]
  },
  {
   "cell_type": "code",
   "execution_count": 2,
   "metadata": {
    "collapsed": true
   },
   "outputs": [],
   "source": [
    "url = 'http://localhost:8002'"
   ]
  },
  {
   "cell_type": "markdown",
   "metadata": {},
   "source": [
    "## Examples of Useful, Cool and Funny reviews"
   ]
  },
  {
   "cell_type": "code",
   "execution_count": 3,
   "metadata": {
    "collapsed": false
   },
   "outputs": [],
   "source": [
    "reviews = {'useful': {'stars': 1, 'review': \"\"\"Went into the er last night and walked out after a horrific experience.  Had chest pain, shortness of breath and extreme coughing, vomiting. During the ekg could hear the er staff talking about another employee and about her  \"bitching\". Then went to vitals and then to wait. I went into a very bad coughing fit and another patient went to get help. You could tell the rn was annoyed and asked what the problem was. I gasped out I couldn't breathe. She looked at me and said, \" You're breathing fine or you wouldn't be able to speak. You're just uncomfortable,  that's normal. You'll be fine.\" Last straw was when during my lab draw when the tech couldn't find the vein and was fishing for it and told him to stop because he was rough and hurting me, he pulled out the needle and sighed and glared at me. I did allow another tech to try but he missed. I left after that. It seems all the employees I had the pleasure of meeting or overhearing were there because they had to be. Even if I were in a serious crash and dying I'd never go back. There are other hospitals to care for your critical needs, avoid this one.\"\"\"},\n",
    "           'cool': {'stars': 5, 'review': \"\"\"Love this location. It is very well organized, bright, and clean. I found a ton of great deals and the staff was very helpful. I bought my daughter a set of dishes for her birthday and they didn't once complain about wrapping each dish seperate and did a great job. If you can't find what you need and didn't know you needed here, you were not looking! I always find something I have to have!\"\"\"},\n",
    "           'funny': {'stars': 4, 'review': \"\"\"This is the closest post office to me, therefore it is the most convenient. I mostly come in to drop off parcels or mail for my shop and never had issues with the drop box. I've shipped out a few items from here as well and found- like most other post offices there can be quite a line once one forms. However, the service I've received here has always been kind and quick- once at the register that is. The office itself is small and slightly drab, but I'm assuming most people don't buy their shipping supplies or greeting cards from here.  There is a self-service machine and 2/3 of the office are rented out PO boxes. The office takes cash and credit card.\"\"\"}\n",
    "          }"
   ]
  },
  {
   "cell_type": "code",
   "execution_count": 4,
   "metadata": {
    "collapsed": true
   },
   "outputs": [],
   "source": [
    "def make_prediction(url, endpoint, review):\n",
    "    resp = requests.post(url + '/' + endpoint, data={'review': review})\n",
    "    return json.loads(resp.content)"
   ]
  },
  {
   "cell_type": "markdown",
   "metadata": {},
   "source": [
    "## Predictions for an actual useful review"
   ]
  },
  {
   "cell_type": "code",
   "execution_count": 22,
   "metadata": {
    "collapsed": false
   },
   "outputs": [
    {
     "name": "stdout",
     "output_type": "stream",
     "text": [
      "Went into the er last night and walked out after a horrific experience.  Had chest pain, shortness of breath and extreme coughing, vomiting. During the ekg could hear the er staff talking about another employee and about her  \"bitching\". Then went to vitals and then to wait. I went into a very bad coughing fit and another patient went to get help. You could tell the rn was annoyed and asked what the problem was. I gasped out I couldn't breathe. She looked at me and said, \" You're breathing fine or you wouldn't be able to speak. You're just uncomfortable,  that's normal. You'll be fine.\" Last straw was when during my lab draw when the tech couldn't find the vein and was fishing for it and told him to stop because he was rough and hurting me, he pulled out the needle and sighed and glared at me. I did allow another tech to try but he missed. I left after that. It seems all the employees I had the pleasure of meeting or overhearing were there because they had to be. Even if I were in a serious crash and dying I'd never go back. There are other hospitals to care for your critical needs, avoid this one.\n",
      "\n",
      "Stars Rating: 1\n",
      "\n",
      "Predictions\n",
      "{u'useful': 1}\n",
      "{u'cool': 0}\n",
      "{u'funny': 1}\n",
      "{u'stars': 1}\n"
     ]
    }
   ],
   "source": [
    "review = reviews['useful']['review']\n",
    "print(review + '\\n')\n",
    "print(\"Stars Rating: %d\\n\" % reviews['useful']['stars'])\n",
    "print(\"Predictions\")\n",
    "print(make_prediction(url, 'useful', review))\n",
    "print(make_prediction(url, 'cool', review))\n",
    "print(make_prediction(url, 'funny', review))\n",
    "print(make_prediction(url, 'stars', review))"
   ]
  },
  {
   "cell_type": "markdown",
   "metadata": {},
   "source": [
    "## Predictions for an actual cool review"
   ]
  },
  {
   "cell_type": "code",
   "execution_count": 23,
   "metadata": {
    "collapsed": false
   },
   "outputs": [
    {
     "name": "stdout",
     "output_type": "stream",
     "text": [
      "Love this location. It is very well organized, bright, and clean. I found a ton of great deals and the staff was very helpful. I bought my daughter a set of dishes for her birthday and they didn't once complain about wrapping each dish seperate and did a great job. If you can't find what you need and didn't know you needed here, you were not looking! I always find something I have to have!\n",
      "\n",
      "Stars Rating: 5\n",
      "\n",
      "Predictions\n",
      "{u'useful': 0}\n",
      "{u'cool': 1}\n",
      "{u'funny': 0}\n",
      "{u'stars': 5}\n"
     ]
    }
   ],
   "source": [
    "review = reviews['cool']['review']\n",
    "print(review + '\\n')\n",
    "print(\"Stars Rating: %d\\n\" % reviews['cool']['stars'])\n",
    "print(\"Predictions\")\n",
    "print(make_prediction(url, 'useful', review))\n",
    "print(make_prediction(url, 'cool', review))\n",
    "print(make_prediction(url, 'funny', review))\n",
    "print(make_prediction(url, 'stars', review))"
   ]
  },
  {
   "cell_type": "markdown",
   "metadata": {},
   "source": [
    "## Predictions for an actual funny review"
   ]
  },
  {
   "cell_type": "code",
   "execution_count": 24,
   "metadata": {
    "collapsed": false
   },
   "outputs": [
    {
     "name": "stdout",
     "output_type": "stream",
     "text": [
      "This is the closest post office to me, therefore it is the most convenient. I mostly come in to drop off parcels or mail for my shop and never had issues with the drop box. I've shipped out a few items from here as well and found- like most other post offices there can be quite a line once one forms. However, the service I've received here has always been kind and quick- once at the register that is. The office itself is small and slightly drab, but I'm assuming most people don't buy their shipping supplies or greeting cards from here.  There is a self-service machine and 2/3 of the office are rented out PO boxes. The office takes cash and credit card.\n",
      "\n",
      "Stars Rating: 4\n",
      "\n",
      "Predictions\n",
      "{u'useful': 1}\n",
      "{u'cool': 1}\n",
      "{u'funny': 1}\n",
      "{u'stars': 3}\n"
     ]
    }
   ],
   "source": [
    "review = reviews['funny']['review']\n",
    "print(review + '\\n')\n",
    "print(\"Stars Rating: %d\\n\" % reviews['funny']['stars'])\n",
    "print(\"Predictions\")\n",
    "print(make_prediction(url, 'useful', review))\n",
    "print(make_prediction(url, 'cool', review))\n",
    "print(make_prediction(url, 'funny', review))\n",
    "print(make_prediction(url, 'stars', review))"
   ]
  },
  {
   "cell_type": "markdown",
   "metadata": {},
   "source": [
    "## Short sentences that yield 1 to 5 stars predictions"
   ]
  },
  {
   "cell_type": "code",
   "execution_count": 17,
   "metadata": {
    "collapsed": true
   },
   "outputs": [],
   "source": [
    "sentences = ['i will never go there again, food was awful',\n",
    "             'well, food was ok, but service was awful',\n",
    "             'well, food was ok, but service was good',\n",
    "             'food is amazing and service is good',\n",
    "             'most wonderful place i have ever been, food is amazing']"
   ]
  },
  {
   "cell_type": "code",
   "execution_count": 18,
   "metadata": {
    "collapsed": false
   },
   "outputs": [
    {
     "name": "stdout",
     "output_type": "stream",
     "text": [
      "{u'stars': 1}\n",
      "{u'stars': 2}\n",
      "{u'stars': 3}\n",
      "{u'stars': 4}\n",
      "{u'stars': 5}\n"
     ]
    }
   ],
   "source": [
    "for sentence in sentences:\n",
    "    print(make_prediction(url, 'stars', sentence))"
   ]
  },
  {
   "cell_type": "code",
   "execution_count": null,
   "metadata": {
    "collapsed": true
   },
   "outputs": [],
   "source": []
  }
 ],
 "metadata": {
  "kernelspec": {
   "display_name": "Python 2",
   "language": "python",
   "name": "python2"
  },
  "language_info": {
   "codemirror_mode": {
    "name": "ipython",
    "version": 2
   },
   "file_extension": ".py",
   "mimetype": "text/x-python",
   "name": "python",
   "nbconvert_exporter": "python",
   "pygments_lexer": "ipython2",
   "version": "2.7.12"
  }
 },
 "nbformat": 4,
 "nbformat_minor": 2
}

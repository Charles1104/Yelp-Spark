{
 "cells": [
  {
   "cell_type": "code",
   "execution_count": 2,
   "metadata": {
    "collapsed": true
   },
   "outputs": [],
   "source": [
    "import requests\n",
    "import json\n",
    "import pandas as pd\n",
    "\n",
    "#!docker run -p 8001:8001 -i -t dvgodoy/yelprecommender:latest"
   ]
  },
  {
   "cell_type": "code",
   "execution_count": 3,
   "metadata": {
    "collapsed": true
   },
   "outputs": [],
   "source": [
    "url = 'http://localhost:8001'"
   ]
  },
  {
   "cell_type": "markdown",
   "metadata": {},
   "source": [
    "## Select a random User ID"
   ]
  },
  {
   "cell_type": "code",
   "execution_count": 4,
   "metadata": {
    "collapsed": false
   },
   "outputs": [
    {
     "name": "stdout",
     "output_type": "stream",
     "text": [
      "dPA1RBX8-pF54IQGvwpyRA\n"
     ]
    }
   ],
   "source": [
    "resp = requests.get(url + '/random_user')\n",
    "user_id = resp.text\n",
    "print(user_id)"
   ]
  },
  {
   "cell_type": "markdown",
   "metadata": {},
   "source": [
    "### Number of Review/Recommendation items"
   ]
  },
  {
   "cell_type": "code",
   "execution_count": 5,
   "metadata": {
    "collapsed": true
   },
   "outputs": [],
   "source": [
    "top = 5"
   ]
  },
  {
   "cell_type": "markdown",
   "metadata": {},
   "source": [
    "## Get top reviewed items by the user"
   ]
  },
  {
   "cell_type": "code",
   "execution_count": 7,
   "metadata": {
    "collapsed": false
   },
   "outputs": [
    {
     "data": {
      "text/html": [
       "<div>\n",
       "<table border=\"1\" class=\"dataframe\">\n",
       "  <thead>\n",
       "    <tr style=\"text-align: right;\">\n",
       "      <th></th>\n",
       "      <th>name</th>\n",
       "      <th>address</th>\n",
       "      <th>categories</th>\n",
       "      <th>stars</th>\n",
       "    </tr>\n",
       "  </thead>\n",
       "  <tbody>\n",
       "    <tr>\n",
       "      <th>0</th>\n",
       "      <td>Los Cardos</td>\n",
       "      <td>281 Leith Walk</td>\n",
       "      <td>[Mexican, Restaurants]</td>\n",
       "      <td>4.5</td>\n",
       "    </tr>\n",
       "    <tr>\n",
       "      <th>1</th>\n",
       "      <td>The Caffeine Drip</td>\n",
       "      <td>10 Melville Place</td>\n",
       "      <td>[Restaurants, Cafes, African]</td>\n",
       "      <td>4.5</td>\n",
       "    </tr>\n",
       "    <tr>\n",
       "      <th>2</th>\n",
       "      <td>The Gardener's Cottage</td>\n",
       "      <td>1 Royal Terrace Gardens, London Road</td>\n",
       "      <td>[Restaurants, British, Scottish]</td>\n",
       "      <td>4.5</td>\n",
       "    </tr>\n",
       "    <tr>\n",
       "      <th>3</th>\n",
       "      <td>Timberyard</td>\n",
       "      <td>10 Lady Lawson Street</td>\n",
       "      <td>[British, Restaurants]</td>\n",
       "      <td>4.5</td>\n",
       "    </tr>\n",
       "    <tr>\n",
       "      <th>4</th>\n",
       "      <td>Capital Chinese Take Away</td>\n",
       "      <td>224 Leith Walk</td>\n",
       "      <td>[Restaurants, Fast Food, Chinese]</td>\n",
       "      <td>4.5</td>\n",
       "    </tr>\n",
       "  </tbody>\n",
       "</table>\n",
       "</div>"
      ],
      "text/plain": [
       "                        name                               address  \\\n",
       "0                 Los Cardos                        281 Leith Walk   \n",
       "1          The Caffeine Drip                     10 Melville Place   \n",
       "2     The Gardener's Cottage  1 Royal Terrace Gardens, London Road   \n",
       "3                 Timberyard                 10 Lady Lawson Street   \n",
       "4  Capital Chinese Take Away                        224 Leith Walk   \n",
       "\n",
       "                          categories  stars  \n",
       "0             [Mexican, Restaurants]    4.5  \n",
       "1      [Restaurants, Cafes, African]    4.5  \n",
       "2   [Restaurants, British, Scottish]    4.5  \n",
       "3             [British, Restaurants]    4.5  \n",
       "4  [Restaurants, Fast Food, Chinese]    4.5  "
      ]
     },
     "execution_count": 7,
     "metadata": {},
     "output_type": "execute_result"
    }
   ],
   "source": [
    "resp = requests.get(url + '/list', params={'user': user_id, 'n': top})\n",
    "pd.DataFrame(json.loads(resp.content))[['name', 'address', 'categories', 'stars']]"
   ]
  },
  {
   "cell_type": "markdown",
   "metadata": {},
   "source": [
    "## Get top recommendations for the user"
   ]
  },
  {
   "cell_type": "code",
   "execution_count": 8,
   "metadata": {
    "collapsed": false
   },
   "outputs": [
    {
     "data": {
      "text/html": [
       "<div>\n",
       "<table border=\"1\" class=\"dataframe\">\n",
       "  <thead>\n",
       "    <tr style=\"text-align: right;\">\n",
       "      <th></th>\n",
       "      <th>name</th>\n",
       "      <th>address</th>\n",
       "      <th>categories</th>\n",
       "      <th>stars</th>\n",
       "    </tr>\n",
       "  </thead>\n",
       "  <tbody>\n",
       "    <tr>\n",
       "      <th>0</th>\n",
       "      <td>The Verandah Restaurant</td>\n",
       "      <td>17 Dalry Road</td>\n",
       "      <td>[Bangladeshi, Restaurants, Indian]</td>\n",
       "      <td>3.0</td>\n",
       "    </tr>\n",
       "    <tr>\n",
       "      <th>1</th>\n",
       "      <td>Pine Garden Chinese Restaurant</td>\n",
       "      <td>155 Morningside Road</td>\n",
       "      <td>[Chinese, Restaurants]</td>\n",
       "      <td>3.0</td>\n",
       "    </tr>\n",
       "    <tr>\n",
       "      <th>2</th>\n",
       "      <td>Chiquito</td>\n",
       "      <td>Unit A3E North Quarter, Fort Kinnaird Shopping...</td>\n",
       "      <td>[Tex-Mex, Mexican, Restaurants]</td>\n",
       "      <td>3.0</td>\n",
       "    </tr>\n",
       "    <tr>\n",
       "      <th>3</th>\n",
       "      <td>Mister Lees</td>\n",
       "      <td>95 Inglis Gn Road</td>\n",
       "      <td>[Fast Food, Restaurants, Chinese]</td>\n",
       "      <td>5.0</td>\n",
       "    </tr>\n",
       "    <tr>\n",
       "      <th>4</th>\n",
       "      <td>Pizza Express</td>\n",
       "      <td>80 Holyrood Road</td>\n",
       "      <td>[Restaurants, Pizza]</td>\n",
       "      <td>3.0</td>\n",
       "    </tr>\n",
       "  </tbody>\n",
       "</table>\n",
       "</div>"
      ],
      "text/plain": [
       "                             name  \\\n",
       "0         The Verandah Restaurant   \n",
       "1  Pine Garden Chinese Restaurant   \n",
       "2                        Chiquito   \n",
       "3                     Mister Lees   \n",
       "4                   Pizza Express   \n",
       "\n",
       "                                             address  \\\n",
       "0                                      17 Dalry Road   \n",
       "1                               155 Morningside Road   \n",
       "2  Unit A3E North Quarter, Fort Kinnaird Shopping...   \n",
       "3                                  95 Inglis Gn Road   \n",
       "4                                   80 Holyrood Road   \n",
       "\n",
       "                           categories  stars  \n",
       "0  [Bangladeshi, Restaurants, Indian]    3.0  \n",
       "1              [Chinese, Restaurants]    3.0  \n",
       "2     [Tex-Mex, Mexican, Restaurants]    3.0  \n",
       "3   [Fast Food, Restaurants, Chinese]    5.0  \n",
       "4                [Restaurants, Pizza]    3.0  "
      ]
     },
     "execution_count": 8,
     "metadata": {},
     "output_type": "execute_result"
    }
   ],
   "source": [
    "resp = requests.get(url + '/recommend', params={'user': user_id, 'n': top})\n",
    "pd.DataFrame(json.loads(resp.content))[['name', 'address', 'categories', 'stars']]"
   ]
  },
  {
   "cell_type": "code",
   "execution_count": null,
   "metadata": {
    "collapsed": true
   },
   "outputs": [],
   "source": []
  }
 ],
 "metadata": {
  "kernelspec": {
   "display_name": "Python 2",
   "language": "python",
   "name": "python2"
  },
  "language_info": {
   "codemirror_mode": {
    "name": "ipython",
    "version": 2
   },
   "file_extension": ".py",
   "mimetype": "text/x-python",
   "name": "python",
   "nbconvert_exporter": "python",
   "pygments_lexer": "ipython2",
   "version": "2.7.12"
  }
 },
 "nbformat": 4,
 "nbformat_minor": 2
}

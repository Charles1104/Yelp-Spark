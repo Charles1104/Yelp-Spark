{
 "cells": [
  {
   "cell_type": "code",
   "execution_count": 1,
   "metadata": {
    "collapsed": false
   },
   "outputs": [],
   "source": [
    "!rm -rf ./metastore_db/\n",
    "#pyspark --executor-memory 8g --driver-memory 8g --conf spark.driver.maxResultSize=2g"
   ]
  },
  {
   "cell_type": "code",
   "execution_count": 2,
   "metadata": {
    "collapsed": false
   },
   "outputs": [],
   "source": [
    "import numpy as np\n",
    "import json\n",
    "import pickle\n",
    "import shutil\n",
    "import seaborn as sns\n",
    "from time import mktime\n",
    "from datetime import datetime\n",
    "from pyspark.ml.feature import StringIndexer, StandardScaler, IndexToString\n",
    "from pyspark.ml.evaluation import RegressionEvaluator\n",
    "from pyspark.ml.recommendation import ALS, ALSModel\n",
    "from pyspark.ml.tuning import ParamGridBuilder\n",
    "from pyspark.sql import Row\n",
    "from pyspark.sql.functions import UserDefinedFunction, stddev\n",
    "from pyspark.sql.functions import * # array, desc, asc, mean\n",
    "from pyspark.sql.types import StructType, StructField, StringType, DoubleType, DateType, IntegerType\n",
    "%matplotlib inline\n",
    "\n",
    "sqlc = SQLContext(sc)"
   ]
  },
  {
   "cell_type": "code",
   "execution_count": 3,
   "metadata": {
    "collapsed": false
   },
   "outputs": [],
   "source": [
    "class YelpRecommender(object):\n",
    "    def __init__(self, folder='./', business_filename=None, reviews_filename=None):\n",
    "        self._folder = folder\n",
    "        if business_filename is None:\n",
    "            business_filename = os.path.join(folder, 'yelp_academic_dataset_business.json')\n",
    "        if reviews_filename is None:\n",
    "            reviews_filename = os.path.join(folder, 'yelp_academic_dataset_review.json')\n",
    "        \n",
    "        self._city = None\n",
    "        self._category = None\n",
    "        self._min_per_user = 0\n",
    "        self._scaler = {'mean': True, 'stdev': False}\n",
    "        \n",
    "        self._verbose = True\n",
    "        self._business = None\n",
    "        self._reviews = None\n",
    "        self._city_business = None\n",
    "        self._city_reviews = None\n",
    "        self._dataset = None\n",
    "        self._training = None\n",
    "        self._test = None\n",
    "        self._best_model = None\n",
    "        self._best_parms = None\n",
    "        self._eval = None\n",
    "        \n",
    "        self._business_dict = {}\n",
    "        self._user_dict = {}\n",
    "        self._review_dict = {}\n",
    "        \n",
    "        self.load_business(business_filename)\n",
    "        self.load_reviews(reviews_filename)\n",
    "    \n",
    "    def console(self, message):\n",
    "        if self._verbose:\n",
    "            print(message)\n",
    "            \n",
    "    @property\n",
    "    def best_model(self):\n",
    "        return self._best_model\n",
    "    \n",
    "    @property\n",
    "    def best_parms(self):\n",
    "        return self._best_parms\n",
    "    \n",
    "    @property\n",
    "    def evaluation(self):\n",
    "        return self._eval\n",
    "    \n",
    "    @property\n",
    "    def all_users(self):\n",
    "        return self._user_dict.keys()\n",
    "    \n",
    "    @staticmethod\n",
    "    def rest_to_json(row):\n",
    "        return {row.business_idn: {'name': row.name,\n",
    "                                   'address': row.address, \n",
    "                                   'stars': row.stars, \n",
    "                                   'categories': row.categories}}\n",
    "    \n",
    "    def load_business(self, filename):\n",
    "        self.console('Loading businesses data...')\n",
    "        if os.path.exists('./metastore_db/dbex.lck'):\n",
    "            os.remove('./metastore_db/dbex.lck')    \n",
    "        business = sqlc.read.json(filename)\n",
    "        business = business.select('business_id', 'name', 'city', 'stars', 'categories', 'address')\n",
    "        self._business = business\n",
    "\n",
    "    def load_reviews(self, filename):\n",
    "        self.console('Loading reviews data...')\n",
    "        if os.path.exists('./metastore_db/dbex.lck'):\n",
    "            os.remove('./metastore_db/dbex.lck')    \n",
    "        reviews = sqlc.read.json(filename)\n",
    "        reviews = reviews.select('user_id', 'business_id', 'stars', 'date')\n",
    "        self._reviews = reviews\n",
    "\n",
    "    def _get_city_businesses(self, category):\n",
    "        def is_category_listed(name, categories):\n",
    "            listed = 0.0\n",
    "            if categories is not None:\n",
    "                if name in categories:\n",
    "                    listed = 1.0\n",
    "            return listed\n",
    "        \n",
    "        is_category = UserDefinedFunction(lambda c: is_category_listed(category, c), DoubleType())\n",
    "\n",
    "        business_cat = self._business.withColumn('is_category', is_category('categories')) \\\n",
    "                                    .filter('is_category = 1.0') \\\n",
    "                                    .drop('is_category')\n",
    "\n",
    "        city_business = business_cat.filter('city = \"' + self._city +'\"')\n",
    "\n",
    "        business_indexer = StringIndexer().setInputCol('business_id').setOutputCol('business_idn')\n",
    "        business_idx_model = business_indexer.fit(city_business)\n",
    "        city_business = business_idx_model.transform(city_business)\n",
    "\n",
    "        city_business.cache()\n",
    "\n",
    "        rest = city_business.select('business_idn', 'name', 'address', 'stars', 'categories').rdd.collect()\n",
    "        rest = map(self.rest_to_json, rest)\n",
    "        rest = {k: v for d in rest for k, v in d.items()}\n",
    "\n",
    "        filename = os.path.join(folder, '%s_%s_business.pickle' % (self._city.replace(' ', '_'), self._category))\n",
    "        self.console('Saving business data to %s ...' % filename)\n",
    "        with open(filename, 'wb') as f:\n",
    "            pickle.dump(rest, f)\n",
    "        self._business_dict = rest\n",
    "\n",
    "        self._city_business = city_business\n",
    "\n",
    "    def _get_city_reviews(self):\n",
    "        reviews_city = self._reviews.join(self._city_business.select('business_id', 'business_idn'), on='business_id')\n",
    "\n",
    "        np.random.seed(42)\n",
    "        to_timestamp = UserDefinedFunction(lambda d: mktime(datetime.strptime(d, '%Y-%m-%d').timetuple()) + np.random.random(), DoubleType())\n",
    "        df_selected = reviews_city.select('user_id', 'business_idn', 'stars', to_timestamp('date').alias('timestamp')).drop('date')\n",
    "\n",
    "        if self._min_per_user > 0:\n",
    "            df_selected.createOrReplaceTempView('ratings')\n",
    "            df_selected = sqlc.sql('select user_id, business_idn, stars, timestamp \\\n",
    "                                    from ratings \\\n",
    "                                    where user_id in (select user_id \\\n",
    "                                                      from ratings \\\n",
    "                                                      group by user_id \\\n",
    "                                                      having count(1) > ' + str(self._min_per_user) + ')')\n",
    "\n",
    "        df_selected.cache()\n",
    "        user_indexer = StringIndexer().setInputCol('user_id').setOutputCol('user_idn')\n",
    "        user_idx_model = user_indexer.fit(df_selected)\n",
    "        df_selected = user_idx_model.transform(df_selected)    \n",
    "\n",
    "        df_selected.cache()\n",
    "        user_last = df_selected.select('user_id', 'timestamp').groupby('user_id').max().rdd.collectAsMap()\n",
    "        user_last_lookup = sc.broadcast(user_last)    \n",
    "\n",
    "        get_last = UserDefinedFunction(lambda c: user_last_lookup.value.get(c), DoubleType())\n",
    "        df_selected = df_selected.withColumn('last_time', get_last('user_id'))\n",
    "        df_selected.cache()\n",
    "\n",
    "        user_mapping = df_selected.select('user_id', 'user_idn').groupby('user_id').max().rdd.collectAsMap()\n",
    "        filename = os.path.join(folder, '%s_%s_user.pickle' % (self._city.replace(' ', '_'), self._category))\n",
    "        self.console('Saving user data to %s ...' % filename)\n",
    "        with open(filename, 'wb') as f:\n",
    "            pickle.dump(user_mapping, f)\n",
    "        self._user_dict = user_mapping\n",
    "\n",
    "        all_visited = df_selected.select('user_idn', 'business_idn').groupby('user_idn').agg(collect_list('business_idn')).rdd.collectAsMap()\n",
    "        filename = os.path.join(folder, '%s_%s_review.pickle' % (self._city.replace(' ', '_'), self._category))\n",
    "        self.console('Saving review data to %s ...' % filename)\n",
    "        with open(filename, 'wb') as f:\n",
    "            pickle.dump(all_visited, f)\n",
    "        self._review_dict = all_visited\n",
    "\n",
    "        self._city_reviews = df_selected\n",
    "\n",
    "    def _apply_scaler(self, mean=True, stdev=False):\n",
    "        if mean:\n",
    "            user_means = self._city_reviews.select('user_id', 'stars').groupby('user_id').mean().rdd.collectAsMap()\n",
    "        else:\n",
    "            user_means = {}\n",
    "\n",
    "        user_means_lookup = sc.broadcast(user_means)\n",
    "\n",
    "        if stdev:\n",
    "            user_stds = self._city_reviews.select('user_id', 'stars').groupby('user_id').agg(stddev('stars').alias('stddev')).rdd.collect()\n",
    "            user_stds = dict(map(lambda row: (row.user_id, row.stddev if row.stddev > 0.0 else 1.0), user_stds))\n",
    "        else:\n",
    "            user_stds = {}\n",
    "        user_stds_lookup = sc.broadcast(user_stds)    \n",
    "\n",
    "        center_user_stars = UserDefinedFunction(lambda cols: (float(cols[1]) - user_means_lookup.value.get(cols[0], 0.0))/user_stds_lookup.value.get(cols[0], 1.0), DoubleType())\n",
    "\n",
    "        df_scaled = self._city_reviews.withColumn('centered', center_user_stars(array('user_id','stars'))) \\\n",
    "                        .drop('stars') \\\n",
    "                        .withColumnRenamed('centered', 'stars')\n",
    "\n",
    "        df_scaled.cache()\n",
    "\n",
    "        self._dataset = df_scaled\n",
    "\n",
    "    def _training_test_split(self):\n",
    "        training = self._dataset.filter('last_time <> timestamp')\n",
    "        test = self._dataset.filter('last_time = timestamp')\n",
    "        \n",
    "        # https://github.com/apache/spark/pull/12896\n",
    "        available_business = sc.broadcast(set(training.select('business_idn').distinct().rdd.map(lambda t: t.business_idn).collect()))\n",
    "        is_available = UserDefinedFunction(lambda idn: 1.0 if idn in available_business.value else 0.0, DoubleType())    \n",
    "        test = test.withColumn('available', is_available('business_idn'))\n",
    "        test = test.filter('available = 1.0')\n",
    "\n",
    "        self._training, self._test = training, test\n",
    "\n",
    "    def _grid_search(self, paramGrid):\n",
    "        model_list = []\n",
    "        eval_lists = {'train_rmse': [], 'test_rmse': []}\n",
    "\n",
    "        param_list = [dict(map(lambda t: (t[0].name, t[1]), params.items())) for params in paramGrid]\n",
    "\n",
    "        for idx, params in enumerate(param_list):\n",
    "            self.console(\"Training model %d/%d with %s\" % (idx + 1, len(param_list), params))\n",
    "            model = ALS(userCol=\"user_idn\", itemCol=\"business_idn\", ratingCol=\"stars\", seed=42).setParams(**params)\n",
    "            model = model.fit(self._training)\n",
    "            model_list.append(model)\n",
    "\n",
    "            predictions = model.transform(self._training)\n",
    "            evaluator = RegressionEvaluator(metricName=\"rmse\", labelCol=\"stars\",\n",
    "                                            predictionCol=\"prediction\")\n",
    "            train_rmse = evaluator.evaluate(predictions)\n",
    "            eval_lists['train_rmse'].append(train_rmse)\n",
    "            self.console(\"Train Root-mean-square error = \" + str(train_rmse))\n",
    "\n",
    "            predictions = model.transform(self._test)\n",
    "            evaluator = RegressionEvaluator(metricName=\"rmse\", labelCol=\"stars\",\n",
    "                                            predictionCol=\"prediction\")\n",
    "            test_rmse = evaluator.evaluate(predictions)\n",
    "            eval_lists['test_rmse'].append(test_rmse)\n",
    "            self.console(\"Test Root-mean-square error = \" + str(test_rmse))\n",
    "\n",
    "        best_seq = np.argmin(eval_lists['test_rmse'])\n",
    "        best_model = model_list[best_seq]\n",
    "        best_parms = param_list[best_seq]\n",
    "        \n",
    "        self._best_model, self._best_parms, self._eval = best_model, best_parms, eval_lists\n",
    "        \n",
    "        model_filename = os.path.join(folder, '%s_als_model_regParm%0.1f_rank%d_maxIter%d' % (self._city.replace(' ', '_'), best_parms['regParam'], best_parms['rank'], best_parms['maxIter']))\n",
    "        self.console(\"Best model parameters: %s\" % best_parms)\n",
    "        self.console(\"Saving best model to %s\" % model_filename)\n",
    "        if os.path.exists(model_filename):\n",
    "            shutil.rmtree(model_filename)\n",
    "        best_model.save(model_filename)\n",
    "    \n",
    "    def fit(self, city, category, parms, verbose=True):\n",
    "        self._verbose = verbose\n",
    "        \n",
    "        self._city = city\n",
    "        self._category = category\n",
    "        self._min_per_user = parms['min_per_user']\n",
    "        self._scaler = parms['scaler']\n",
    "        \n",
    "        self.console('Filtering businesses for the city...')\n",
    "        self._get_city_businesses(self._category)\n",
    "        self.console('Filtering reviews for the city...')\n",
    "        self._get_city_reviews()\n",
    "        self.console('Scaling user ratings...')\n",
    "        self._apply_scaler(mean=self._scaler['mean'], stdev=self._scaler['stdev'])\n",
    "        self.console('Splitting dataset into training and test...')\n",
    "        self._training_test_split()\n",
    "\n",
    "        als = ALS()\n",
    "        paramGrid = ParamGridBuilder() \\\n",
    "            .addGrid(als.rank, parms['als']['rank']) \\\n",
    "            .addGrid(als.maxIter, parms['als']['maxIter']) \\\n",
    "            .addGrid(als.regParam, parms['als']['regParam']) \\\n",
    "            .build()\n",
    "\n",
    "        self.console('Performing grid search over parameters...')\n",
    "        self._grid_search(paramGrid)\n",
    "        self.console('Finished!')\n",
    "        \n",
    "    def recommend(self, user_id, n):\n",
    "        n_business = len(self._business_dict)\n",
    "        user_idn = self._user_dict[user_id]\n",
    "        visited = self._review_dict[user_idn]\n",
    "        test_user = sqlc.createDataFrame([Row(user_idn=user_idn, business_idn=float(i)) for i in list(set(range(n_business)).difference(set(visited)))])\n",
    "\n",
    "        pred_test = self._best_model.transform(test_user).na.fill(-5.0)\n",
    "        top_pred = pred_test.orderBy(desc('prediction')).select('business_idn').rdd.map(lambda row: row.business_idn).take(n)\n",
    "        response = map(lambda idn: self._business_dict[idn], top_pred)\n",
    "        return json.dumps(response)\n",
    "    \n",
    "    def list_ratings(self, user_id, n):\n",
    "        user_idn = self._user_dict[user_id]\n",
    "        visited = self._review_dict[user_idn]\n",
    "        response = sorted(map(lambda idn: self._business_dict[idn], visited), key=lambda k: k['stars'], reverse=True)[:n]\n",
    "        return json.dumps(response)"
   ]
  },
  {
   "cell_type": "code",
   "execution_count": 4,
   "metadata": {
    "collapsed": false
   },
   "outputs": [
    {
     "name": "stdout",
     "output_type": "stream",
     "text": [
      "Loading businesses data...\n",
      "Loading reviews data...\n"
     ]
    }
   ],
   "source": [
    "folder = './dataset'\n",
    "\n",
    "rec = YelpRecommender(folder)"
   ]
  },
  {
   "cell_type": "code",
   "execution_count": 5,
   "metadata": {
    "collapsed": false,
    "scrolled": true
   },
   "outputs": [
    {
     "name": "stdout",
     "output_type": "stream",
     "text": [
      "Filtering businesses for the city...\n",
      "Saving business data to ./dataset/Edinburgh_Restaurants_business.pickle ...\n",
      "Filtering reviews for the city...\n",
      "Saving user data to ./dataset/Edinburgh_Restaurants_user.pickle ...\n",
      "Saving review data to ./dataset/Edinburgh_Restaurants_review.pickle ...\n",
      "Scaling user ratings...\n",
      "Splitting dataset into training and test...\n",
      "Performing grid search over parameters...\n",
      "Training model 1/18 with {'regParam': 1.0, 'rank': 5, 'maxIter': 5}\n",
      "Train Root-mean-square error = 0.912371011185\n",
      "Test Root-mean-square error = 0.955528800143\n",
      "Training model 2/18 with {'regParam': 0.3, 'rank': 5, 'maxIter': 5}\n",
      "Train Root-mean-square error = 0.745469998851\n",
      "Test Root-mean-square error = 0.948756638183\n",
      "Training model 3/18 with {'regParam': 0.1, 'rank': 5, 'maxIter': 5}\n",
      "Train Root-mean-square error = 0.525197930941\n",
      "Test Root-mean-square error = 1.04287028516\n",
      "Training model 4/18 with {'regParam': 1.0, 'rank': 5, 'maxIter': 10}\n",
      "Train Root-mean-square error = 0.912411405327\n",
      "Test Root-mean-square error = 0.955527818845\n",
      "Training model 5/18 with {'regParam': 0.3, 'rank': 5, 'maxIter': 10}\n",
      "Train Root-mean-square error = 0.730552896163\n",
      "Test Root-mean-square error = 0.945782674791\n",
      "Training model 6/18 with {'regParam': 0.1, 'rank': 5, 'maxIter': 10}\n",
      "Train Root-mean-square error = 0.499259600459\n",
      "Test Root-mean-square error = 1.04424990762\n",
      "Training model 7/18 with {'regParam': 1.0, 'rank': 10, 'maxIter': 5}\n",
      "Train Root-mean-square error = 0.912378526422\n",
      "Test Root-mean-square error = 0.955527376778\n",
      "Training model 8/18 with {'regParam': 0.3, 'rank': 10, 'maxIter': 5}\n",
      "Train Root-mean-square error = 0.723419435075\n",
      "Test Root-mean-square error = 0.9429564116\n",
      "Training model 9/18 with {'regParam': 0.1, 'rank': 10, 'maxIter': 5}\n",
      "Train Root-mean-square error = 0.406884428891\n",
      "Test Root-mean-square error = 1.00423061191\n",
      "Training model 10/18 with {'regParam': 1.0, 'rank': 10, 'maxIter': 10}\n",
      "Train Root-mean-square error = 0.912412588654\n",
      "Test Root-mean-square error = 0.955527748732\n",
      "Training model 11/18 with {'regParam': 0.3, 'rank': 10, 'maxIter': 10}\n",
      "Train Root-mean-square error = 0.711216262481\n",
      "Test Root-mean-square error = 0.947984498837\n",
      "Training model 12/18 with {'regParam': 0.1, 'rank': 10, 'maxIter': 10}\n",
      "Train Root-mean-square error = 0.385681014143\n",
      "Test Root-mean-square error = 1.00591065713\n",
      "Training model 13/18 with {'regParam': 1.0, 'rank': 20, 'maxIter': 5}\n",
      "Train Root-mean-square error = 0.912367342062\n",
      "Test Root-mean-square error = 0.955527566505\n",
      "Training model 14/18 with {'regParam': 0.3, 'rank': 20, 'maxIter': 5}\n",
      "Train Root-mean-square error = 0.712750683571\n",
      "Test Root-mean-square error = 0.943963181155\n",
      "Training model 15/18 with {'regParam': 0.1, 'rank': 20, 'maxIter': 5}\n",
      "Train Root-mean-square error = 0.33140468527\n",
      "Test Root-mean-square error = 0.972839603252\n",
      "Training model 16/18 with {'regParam': 1.0, 'rank': 20, 'maxIter': 10}\n",
      "Train Root-mean-square error = 0.912410788588\n",
      "Test Root-mean-square error = 0.955527691858\n",
      "Training model 17/18 with {'regParam': 0.3, 'rank': 20, 'maxIter': 10}\n",
      "Train Root-mean-square error = 0.703049414435\n",
      "Test Root-mean-square error = 0.945475782233\n",
      "Training model 18/18 with {'regParam': 0.1, 'rank': 20, 'maxIter': 10}\n",
      "Train Root-mean-square error = 0.31912429297\n",
      "Test Root-mean-square error = 0.986608227246\n",
      "Best model parameters: {'regParam': 0.3, 'rank': 10, 'maxIter': 5}\n",
      "Saving best model to ./dataset/Edinburgh_als_model_regParm0.3_rank10_maxIter5\n",
      "Finished!\n"
     ]
    }
   ],
   "source": [
    "parms = {'min_per_user': 4,\n",
    "         'scaler': {'mean': True, 'stdev': False},\n",
    "         'als': {'rank': [5, 10, 20],\n",
    "                 'maxIter': [5, 10],\n",
    "                 'regParam': [1.0, 0.3, 0.1]}}\n",
    "\n",
    "rec.fit('Edinburgh', 'Restaurants', parms)"
   ]
  },
  {
   "cell_type": "code",
   "execution_count": 9,
   "metadata": {
    "collapsed": true
   },
   "outputs": [],
   "source": [
    "pred = rec.best_model.transform(rec._test)\n",
    "pred_df = pred.toPandas()"
   ]
  },
  {
   "cell_type": "code",
   "execution_count": 10,
   "metadata": {
    "collapsed": false
   },
   "outputs": [
    {
     "data": {
      "text/plain": [
       "<seaborn.axisgrid.FacetGrid at 0x7f8e7ace63d0>"
      ]
     },
     "execution_count": 10,
     "metadata": {},
     "output_type": "execute_result"
    },
    {
     "name": "stderr",
     "output_type": "stream",
     "text": [
      "/home/dvgodoy/Programs/anaconda/lib/python2.7/site-packages/matplotlib/collections.py:590: FutureWarning: elementwise comparison failed; returning scalar instead, but in the future will perform elementwise comparison\n",
      "  if self._edgecolors == str('face'):\n"
     ]
    },
    {
     "data": {
      "image/png": "[encoded data removed]",
      "text/plain": [
       "<matplotlib.figure.Figure at 0x7f8e7ace66d0>"
      ]
     },
     "metadata": {},
     "output_type": "display_data"
    }
   ],
   "source": [
    "sns.lmplot(x='stars', y='prediction', data=pred_df)"
   ]
  },
  {
   "cell_type": "code",
   "execution_count": 6,
   "metadata": {
    "collapsed": false
   },
   "outputs": [
    {
     "name": "stdout",
     "output_type": "stream",
     "text": [
      "TqbSA-djveQQOJ3n1o-GaQ\n"
     ]
    }
   ],
   "source": [
    "user_id = np.random.choice(rec.all_users)\n",
    "print(user_id)"
   ]
  },
  {
   "cell_type": "code",
   "execution_count": 7,
   "metadata": {
    "collapsed": false
   },
   "outputs": [
    {
     "data": {
      "text/plain": [
       "[{u'address': u'28 Easter Rd',\n",
       "  u'categories': [u'Fast Food', u'Chinese', u'Restaurants'],\n",
       "  u'name': u'Ricebox Take Away Food Shops',\n",
       "  u'stars': 2.0},\n",
       " {u'address': u'8 Gloucester Street',\n",
       "  u'categories': [u'Restaurants', u'Thai'],\n",
       "  u'name': u'Songkran',\n",
       "  u'stars': 4.0},\n",
       " {u'address': u'National Gallery Complex, The Mound',\n",
       "  u'categories': [u'Breakfast & Brunch',\n",
       "   u'Restaurants',\n",
       "   u'Tea Rooms',\n",
       "   u'Modern European',\n",
       "   u'British',\n",
       "   u'Coffee & Tea',\n",
       "   u'Food'],\n",
       "  u'name': u'Victor & Carina Contini The Scottish Cafe and Restaurant',\n",
       "  u'stars': 4.0}]"
      ]
     },
     "execution_count": 7,
     "metadata": {},
     "output_type": "execute_result"
    }
   ],
   "source": [
    "json.loads(rec.recommend(user_id, 3))"
   ]
  },
  {
   "cell_type": "code",
   "execution_count": 8,
   "metadata": {
    "collapsed": false
   },
   "outputs": [
    {
     "data": {
      "text/plain": [
       "[{u'address': u'9 Dundee Terrace',\n",
       "  u'categories': [u'Indian', u'Restaurants'],\n",
       "  u'name': u'Guru Balti Restaurant',\n",
       "  u'stars': 4.5},\n",
       " {u'address': u'325 Leith Walk',\n",
       "  u'categories': [u'Restaurants', u'Italian', u'Pizza'],\n",
       "  u'name': u'La Favorita',\n",
       "  u'stars': 4.5},\n",
       " {u'address': u'50 Potterow',\n",
       "  u'categories': [u'Food',\n",
       "   u'Imported Food',\n",
       "   u'Restaurants',\n",
       "   u'Pakistani',\n",
       "   u'Specialty Food',\n",
       "   u'Ethnic Food'],\n",
       "  u'name': u'The Original Mosque Kitchen',\n",
       "  u'stars': 4.0}]"
      ]
     },
     "execution_count": 8,
     "metadata": {},
     "output_type": "execute_result"
    }
   ],
   "source": [
    "json.loads(rec.list_ratings(user_id, 3))"
   ]
  }
 ],
 "metadata": {
  "anaconda-cloud": {},
  "kernelspec": {
   "display_name": "Python 2",
   "language": "python",
   "name": "python2"
  },
  "language_info": {
   "codemirror_mode": {
    "name": "ipython",
    "version": 2
   },
   "file_extension": ".py",
   "mimetype": "text/x-python",
   "name": "python",
   "nbconvert_exporter": "python",
   "pygments_lexer": "ipython2",
   "version": "2.7.12"
  }
 },
 "nbformat": 4,
 "nbformat_minor": 1
}
